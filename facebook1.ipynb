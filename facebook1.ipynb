{
 "cells": [
  {
   "cell_type": "code",
   "execution_count": null,
   "metadata": {},
   "outputs": [
    {
     "name": "stdout",
     "output_type": "stream",
     "text": [
      "Requirement already satisfied: pandas in c:\\users\\jd21\\anaconda3\\lib\\site-packages (1.0.1)\n",
      "Requirement already satisfied: python-dateutil>=2.6.1 in c:\\users\\jd21\\anaconda3\\lib\\site-packages (from pandas) (2.8.1)\n",
      "Requirement already satisfied: numpy>=1.13.3 in c:\\users\\jd21\\anaconda3\\lib\\site-packages (from pandas) (1.18.1)\n",
      "Requirement already satisfied: pytz>=2017.2 in c:\\users\\jd21\\anaconda3\\lib\\site-packages (from pandas) (2019.3)\n",
      "Requirement already satisfied: six>=1.5 in c:\\users\\jd21\\anaconda3\\lib\\site-packages (from python-dateutil>=2.6.1->pandas) (1.14.0)\n"
     ]
    }
   ],
   "source": [
    "!pip install pandas"
   ]
  },
  {
   "cell_type": "code",
   "execution_count": 1,
   "metadata": {},
   "outputs": [],
   "source": [
    "#執行facebook爬蟲套件\n",
    "from bs4 import BeautifulSoup\n",
    "from selenium import webdriver\n",
    "from selenium.webdriver.support.ui import WebDriverWait\n",
    "from selenium.webdriver.support import expected_conditions as EC\n",
    "from selenium.webdriver.common.by import By\n",
    "from selenium.webdriver.firefox.options import Options\n",
    "import csv\n"
   ]
  },
  {
   "cell_type": "code",
   "execution_count": 2,
   "metadata": {},
   "outputs": [],
   "source": [
    "#執行webdrier,需安裝geckodriver,安裝或更新firefox瀏覽器\n",
    "\n",
    "#安裝firfox瀏覽器:載點 https://www.mozilla.org/zh-TW/firefox/new/\n",
    "#geckodriver: https://github.com/mozilla/geckodriver/releases (進去往下拉會看到geckodriver-v0.26.0-win64.zip  請安裝)\n",
    "\n",
    "options = Options()\n",
    "options.headless = True\n",
    "\n",
    "driverPath = \"C:/Users/JD21/anaconda3/geckodriver\"\n",
    "driver = webdriver.Firefox(executable_path=driverPath)\n",
    "\n",
    "url='https://www.facebook.com'\n",
    "driver.get(url)"
   ]
  },
  {
   "cell_type": "code",
   "execution_count": 3,
   "metadata": {},
   "outputs": [],
   "source": [
    "#輸入要抓取某粉絲專頁的fb網址,把網址最後一個名稱更換及可進入\n",
    "url='https://www.facebook.com/benettonphotographfans'\n",
    "driver.get(url)"
   ]
  },
  {
   "cell_type": "code",
   "execution_count": 4,
   "metadata": {},
   "outputs": [
    {
     "name": "stdout",
     "output_type": "stream",
     "text": [
      "https://www.facebook.com/benettonphotographfans\n",
      "benettonphotographfans\n"
     ]
    }
   ],
   "source": [
    "#開始抓取粉絲專頁userid,tel,email\n",
    "\n",
    "userid = driver.current_url\n",
    "print(userid)\n",
    "\n",
    "if 'profile' in userid:\n",
    "    userid = userid.split('id=' ,1)\n",
    "    userid = userid[1]\n",
    "else:\n",
    "    userid = userid.split('https://www.facebook.com/', 1 )\n",
    "    userid = userid[1].split('?', 1 )\n",
    "    userid = userid[0]\n",
    "    \n",
    "print(userid)"
   ]
  },
  {
   "cell_type": "code",
   "execution_count": 5,
   "metadata": {},
   "outputs": [
    {
     "name": "stdout",
     "output_type": "stream",
     "text": [
      "電話： 0225416133\n",
      "信箱： benetton-photographhotmail.com\n"
     ]
    }
   ],
   "source": [
    "#執行抓取指定\n",
    "\n",
    "\n",
    "url=\"https://www.facebook.com/\"+userid+\"/about/?ref=page_internal\"\n",
    "driver.get(url)\n",
    "\n",
    "email=\"\"\n",
    "tel=\"\"\n",
    "for tag in driver.find_elements_by_class_name(\"_50f4\"):\n",
    "    if \"通話\" in tag.text:\n",
    "        tel=tag.text.replace(\" \",\"\").split(\"話\")[1]\n",
    "        print(\"電話：\", tel)\n",
    "    elif \"@\" in tag.text:\n",
    "        email=tag.text.replace(\"@\",\"\")\n",
    "        print(\"信箱：\", email)\n",
    "        \n",
    "with open('FbContent.csv', 'a', newline='') as csvfile:\n",
    "    # 建立 CSV 檔寫入器\n",
    "    writer = csv.writer(csvfile)\n",
    "\n",
    "      # 寫入一列資料\n",
    "    writer.writerow([userid,tel,email])\n"
   ]
  },
  {
   "cell_type": "code",
   "execution_count": null,
   "metadata": {},
   "outputs": [],
   "source": [
    "#安裝firfox瀏覽器:載點 https://www.mozilla.org/zh-TW/firefox/new/\n",
    "#geckodriver: https://github.com/mozilla/geckodriver/releases (進去往下拉會看到geckodriver-v0.26.0-win64.zip請安裝)\n",
    "#記得geckodriver存放路徑與FbContent.xlsx檔案位置(請先將粉絲專頁名稱和網址(按照格式)整理存於該檔案\n",
    "\n",
    "options = Options()\n",
    "options.headless = True\n",
    "\n",
    "driverPath = \"C:/Users/JD21/anaconda3/geckodriver\"\n",
    "driver = webdriver.Firefox(executable_path=driverPath)\n",
    "#開啟firefox瀏覽器後登入帳密\n",
    "url='https://www.facebook.com'\n",
    "driver.get(url)"
   ]
  },
  {
   "cell_type": "code",
   "execution_count": null,
   "metadata": {},
   "outputs": [],
   "source": [
    "df = pd.read_excel(r'C:/Users/JD21/FbContent.xlsx', sheet_name='FbContent')\n",
    "    \n",
    "for idx, row in df.iterrows():\n",
    "    if not isinstance(row[\"網址\"],str):continue\n",
    "    #print(row[\"粉絲專頁\"])\n",
    "    url=row[\"網址\"]\n",
    "    userid = url.split('https://www.facebook.com/', 1 )\n",
    "    userid = userid[1].split('?', 1 )\n",
    "    userid = userid[0]\n",
    "    #print(userid)\n",
    "    url=\"https://www.facebook.com/\"+userid+\"/about/?ref=page_internal\"\n",
    "    driver.get(url)\n",
    "    username = driver.title.split(\" - \")[0].rstrip()\n",
    "    print(username) \n",
    "    \n",
    "    \n",
    "    email=\"\"\n",
    "    tel=\"\"\n",
    "    for tag in driver.find_elements_by_class_name(\"_50f4\"):\n",
    "        if \"通話\" in tag.text:\n",
    "            tel=tag.text.replace(\" \",\"\").split(\"話\")[1]\n",
    "            print(\"電話：\", tel)\n",
    "        elif \"@\" in tag.text:\n",
    "            email=tag.text\n",
    "            print(\"信箱：\", email)\n",
    "            \n",
    "        df.loc[idx,\"粉絲專頁\"]=username        \n",
    "        df.loc[idx,\"電話\"]=tel\n",
    "        df.loc[idx,\"信箱\"]=email\n",
    "\n",
    "df.to_excel(\"C:/Users/JD21/FbContent.xlsx\",sheet_name='FbContent',index=False)  "
   ]
  }
 ],
 "metadata": {
  "kernelspec": {
   "display_name": "Python 3",
   "language": "python",
   "name": "python3"
  },
  "language_info": {
   "codemirror_mode": {
    "name": "ipython",
    "version": 3
   },
   "file_extension": ".py",
   "mimetype": "text/x-python",
   "name": "python",
   "nbconvert_exporter": "python",
   "pygments_lexer": "ipython3",
   "version": "3.7.6"
  }
 },
 "nbformat": 4,
 "nbformat_minor": 4
}
